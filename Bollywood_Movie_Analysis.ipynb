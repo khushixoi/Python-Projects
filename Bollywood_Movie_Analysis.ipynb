{
  "cells": [
    {
      "cell_type": "markdown",
      "id": "8cb7d9a5",
      "metadata": {
        "id": "8cb7d9a5",
        "papermill": {
          "duration": 0.035995,
          "end_time": "2022-01-07T04:46:24.112570",
          "exception": false,
          "start_time": "2022-01-07T04:46:24.076575",
          "status": "completed"
        },
        "tags": []
      },
      "source": [
        "## Bollywood Movie Analysis"
      ]
    },
    {
      "cell_type": "markdown",
      "id": "7015841b",
      "metadata": {
        "id": "7015841b",
        "papermill": {
          "duration": 0.03473,
          "end_time": "2022-01-07T04:46:24.183716",
          "exception": false,
          "start_time": "2022-01-07T04:46:24.148986",
          "status": "completed"
        },
        "tags": []
      },
      "source": [
        "\n",
        "\n",
        "**Meta-Data** of the Bollywood Dataset:\n",
        "\n",
        "*   SINo - Identifier for the movies.\n",
        "*   Release Date - Date on which the movie was released.\n",
        "*   MovieName - Name of the movie.\n",
        "*   ReleaseTime - Mentions special time of release. LW (Long weekend), FS (Festive Season), HS (Holiday Season), N (Normal).\n",
        "*   Genre – Genre of the film such as Romance, Thriller, Action, Comedy, etc\n",
        "*   Budget – Movie creation budget\n",
        "*   BoxOfficeCollection – Box office collection\n",
        "*   YoutubeViews – Number of views of the YouTube trailers\n",
        "*   YoutubeLikes – Number of likes of the YouTube trailers\n",
        "*   YoutubeDislikes – Number of dislikes of the YouTube trailers"
      ]
    },
    {
      "cell_type": "markdown",
      "id": "d48eb26a",
      "metadata": {
        "id": "d48eb26a",
        "papermill": {
          "duration": 0.035278,
          "end_time": "2022-01-07T04:46:24.251870",
          "exception": false,
          "start_time": "2022-01-07T04:46:24.216592",
          "status": "completed"
        },
        "tags": []
      },
      "source": [
        "First, we import the libraries:\n",
        "\n",
        "*   NumPy - for data manipulation.\n",
        "*   Pandas - for data manipulation.\n",
        "*   MatPlotLib - for data visualization.\n",
        "*   Seaborn - for data visualization."
      ]
    },
    {
      "cell_type": "code",
      "execution_count": null,
      "id": "42eb075a",
      "metadata": {
        "execution": {
          "iopub.execute_input": "2022-01-07T04:46:24.328153Z",
          "iopub.status.busy": "2022-01-07T04:46:24.327244Z",
          "iopub.status.idle": "2022-01-07T04:46:25.356839Z",
          "shell.execute_reply": "2022-01-07T04:46:25.356153Z",
          "shell.execute_reply.started": "2022-01-07T04:44:43.000189Z"
        },
        "id": "42eb075a",
        "papermill": {
          "duration": 1.071047,
          "end_time": "2022-01-07T04:46:25.357015",
          "exception": false,
          "start_time": "2022-01-07T04:46:24.285968",
          "status": "completed"
        },
        "tags": []
      },
      "outputs": [],
      "source": [
        "# importing the libraries\n",
        "import numpy as np\n",
        "import pandas as pd\n",
        "from matplotlib import pyplot as plt\n",
        "import seaborn as sns"
      ]
    },
    {
      "cell_type": "markdown",
      "id": "eedb5214",
      "metadata": {
        "id": "eedb5214",
        "papermill": {
          "duration": 0.030314,
          "end_time": "2022-01-07T04:46:25.418790",
          "exception": false,
          "start_time": "2022-01-07T04:46:25.388476",
          "status": "completed"
        },
        "tags": []
      },
      "source": [
        "Next, we read the csv file into a Pandas dataframe using the function read_csv() from the Pandas library."
      ]
    },
    {
      "cell_type": "code",
      "execution_count": null,
      "id": "ed520f50",
      "metadata": {
        "execution": {
          "iopub.execute_input": "2022-01-07T04:46:25.484122Z",
          "iopub.status.busy": "2022-01-07T04:46:25.483186Z",
          "iopub.status.idle": "2022-01-07T04:46:25.506913Z",
          "shell.execute_reply": "2022-01-07T04:46:25.507371Z",
          "shell.execute_reply.started": "2022-01-07T04:44:43.980735Z"
        },
        "id": "ed520f50",
        "papermill": {
          "duration": 0.058314,
          "end_time": "2022-01-07T04:46:25.507556",
          "exception": false,
          "start_time": "2022-01-07T04:46:25.449242",
          "status": "completed"
        },
        "tags": []
      },
      "outputs": [],
      "source": [
        "# reading the dataset\n",
        "df = pd.read_csv('/content/bollywood.csv')"
      ]
    },
    {
      "cell_type": "markdown",
      "id": "76cea974",
      "metadata": {
        "id": "76cea974",
        "papermill": {
          "duration": 0.030883,
          "end_time": "2022-01-07T04:46:25.573103",
          "exception": false,
          "start_time": "2022-01-07T04:46:25.542220",
          "status": "completed"
        },
        "tags": []
      },
      "source": [
        "After reading the dataset, we view the first few rows of the dataframe using the head() function from the Pandas library."
      ]
    },
    {
      "cell_type": "code",
      "execution_count": null,
      "id": "82b27d8c",
      "metadata": {
        "execution": {
          "iopub.execute_input": "2022-01-07T04:46:25.639916Z",
          "iopub.status.busy": "2022-01-07T04:46:25.639222Z",
          "iopub.status.idle": "2022-01-07T04:46:25.659316Z",
          "shell.execute_reply": "2022-01-07T04:46:25.659791Z",
          "shell.execute_reply.started": "2022-01-07T04:44:43.999658Z"
        },
        "id": "82b27d8c",
        "outputId": "b320a935-186b-4f61-bfc6-3f3212106984",
        "papermill": {
          "duration": 0.054976,
          "end_time": "2022-01-07T04:46:25.659960",
          "exception": false,
          "start_time": "2022-01-07T04:46:25.604984",
          "status": "completed"
        },
        "tags": [],
        "colab": {
          "base_uri": "https://localhost:8080/",
          "height": 206
        }
      },
      "outputs": [
        {
          "output_type": "execute_result",
          "data": {
            "text/plain": [
              "   SlNo ReleaseDate        MovieName ReleaseTime     Genre  Budget  \\\n",
              "0     1   18-Apr-14          2States          LW   Romance      36   \n",
              "1     2    4-Jan-13       TableNo.21           N  Thriller      10   \n",
              "2     3   18-Jul-14  AmitSahniKiList           N    Comedy      10   \n",
              "3     4    4-Jan-13  RajdhaniExpress           N     Drama       7   \n",
              "4     5    4-Jul-14      BobbyJasoos           N    Comedy      18   \n",
              "\n",
              "   BoxOfficeCollection  YoutubeViews  YoutubeLikes  YoutubeDislikes  \n",
              "0               104.00       8576361         26622             2527  \n",
              "1                12.00       1087320          1129              137  \n",
              "2                 4.00        572336           586               54  \n",
              "3                 0.35         42626            86               19  \n",
              "4                10.80       3113427          4512             1224  "
            ],
            "text/html": [
              "\n",
              "  <div id=\"df-01714d6e-7d7d-406c-8778-50c550ed930b\" class=\"colab-df-container\">\n",
              "    <div>\n",
              "<style scoped>\n",
              "    .dataframe tbody tr th:only-of-type {\n",
              "        vertical-align: middle;\n",
              "    }\n",
              "\n",
              "    .dataframe tbody tr th {\n",
              "        vertical-align: top;\n",
              "    }\n",
              "\n",
              "    .dataframe thead th {\n",
              "        text-align: right;\n",
              "    }\n",
              "</style>\n",
              "<table border=\"1\" class=\"dataframe\">\n",
              "  <thead>\n",
              "    <tr style=\"text-align: right;\">\n",
              "      <th></th>\n",
              "      <th>SlNo</th>\n",
              "      <th>ReleaseDate</th>\n",
              "      <th>MovieName</th>\n",
              "      <th>ReleaseTime</th>\n",
              "      <th>Genre</th>\n",
              "      <th>Budget</th>\n",
              "      <th>BoxOfficeCollection</th>\n",
              "      <th>YoutubeViews</th>\n",
              "      <th>YoutubeLikes</th>\n",
              "      <th>YoutubeDislikes</th>\n",
              "    </tr>\n",
              "  </thead>\n",
              "  <tbody>\n",
              "    <tr>\n",
              "      <th>0</th>\n",
              "      <td>1</td>\n",
              "      <td>18-Apr-14</td>\n",
              "      <td>2States</td>\n",
              "      <td>LW</td>\n",
              "      <td>Romance</td>\n",
              "      <td>36</td>\n",
              "      <td>104.00</td>\n",
              "      <td>8576361</td>\n",
              "      <td>26622</td>\n",
              "      <td>2527</td>\n",
              "    </tr>\n",
              "    <tr>\n",
              "      <th>1</th>\n",
              "      <td>2</td>\n",
              "      <td>4-Jan-13</td>\n",
              "      <td>TableNo.21</td>\n",
              "      <td>N</td>\n",
              "      <td>Thriller</td>\n",
              "      <td>10</td>\n",
              "      <td>12.00</td>\n",
              "      <td>1087320</td>\n",
              "      <td>1129</td>\n",
              "      <td>137</td>\n",
              "    </tr>\n",
              "    <tr>\n",
              "      <th>2</th>\n",
              "      <td>3</td>\n",
              "      <td>18-Jul-14</td>\n",
              "      <td>AmitSahniKiList</td>\n",
              "      <td>N</td>\n",
              "      <td>Comedy</td>\n",
              "      <td>10</td>\n",
              "      <td>4.00</td>\n",
              "      <td>572336</td>\n",
              "      <td>586</td>\n",
              "      <td>54</td>\n",
              "    </tr>\n",
              "    <tr>\n",
              "      <th>3</th>\n",
              "      <td>4</td>\n",
              "      <td>4-Jan-13</td>\n",
              "      <td>RajdhaniExpress</td>\n",
              "      <td>N</td>\n",
              "      <td>Drama</td>\n",
              "      <td>7</td>\n",
              "      <td>0.35</td>\n",
              "      <td>42626</td>\n",
              "      <td>86</td>\n",
              "      <td>19</td>\n",
              "    </tr>\n",
              "    <tr>\n",
              "      <th>4</th>\n",
              "      <td>5</td>\n",
              "      <td>4-Jul-14</td>\n",
              "      <td>BobbyJasoos</td>\n",
              "      <td>N</td>\n",
              "      <td>Comedy</td>\n",
              "      <td>18</td>\n",
              "      <td>10.80</td>\n",
              "      <td>3113427</td>\n",
              "      <td>4512</td>\n",
              "      <td>1224</td>\n",
              "    </tr>\n",
              "  </tbody>\n",
              "</table>\n",
              "</div>\n",
              "    <div class=\"colab-df-buttons\">\n",
              "\n",
              "  <div class=\"colab-df-container\">\n",
              "    <button class=\"colab-df-convert\" onclick=\"convertToInteractive('df-01714d6e-7d7d-406c-8778-50c550ed930b')\"\n",
              "            title=\"Convert this dataframe to an interactive table.\"\n",
              "            style=\"display:none;\">\n",
              "\n",
              "  <svg xmlns=\"http://www.w3.org/2000/svg\" height=\"24px\" viewBox=\"0 -960 960 960\">\n",
              "    <path d=\"M120-120v-720h720v720H120Zm60-500h600v-160H180v160Zm220 220h160v-160H400v160Zm0 220h160v-160H400v160ZM180-400h160v-160H180v160Zm440 0h160v-160H620v160ZM180-180h160v-160H180v160Zm440 0h160v-160H620v160Z\"/>\n",
              "  </svg>\n",
              "    </button>\n",
              "\n",
              "  <style>\n",
              "    .colab-df-container {\n",
              "      display:flex;\n",
              "      gap: 12px;\n",
              "    }\n",
              "\n",
              "    .colab-df-convert {\n",
              "      background-color: #E8F0FE;\n",
              "      border: none;\n",
              "      border-radius: 50%;\n",
              "      cursor: pointer;\n",
              "      display: none;\n",
              "      fill: #1967D2;\n",
              "      height: 32px;\n",
              "      padding: 0 0 0 0;\n",
              "      width: 32px;\n",
              "    }\n",
              "\n",
              "    .colab-df-convert:hover {\n",
              "      background-color: #E2EBFA;\n",
              "      box-shadow: 0px 1px 2px rgba(60, 64, 67, 0.3), 0px 1px 3px 1px rgba(60, 64, 67, 0.15);\n",
              "      fill: #174EA6;\n",
              "    }\n",
              "\n",
              "    .colab-df-buttons div {\n",
              "      margin-bottom: 4px;\n",
              "    }\n",
              "\n",
              "    [theme=dark] .colab-df-convert {\n",
              "      background-color: #3B4455;\n",
              "      fill: #D2E3FC;\n",
              "    }\n",
              "\n",
              "    [theme=dark] .colab-df-convert:hover {\n",
              "      background-color: #434B5C;\n",
              "      box-shadow: 0px 1px 3px 1px rgba(0, 0, 0, 0.15);\n",
              "      filter: drop-shadow(0px 1px 2px rgba(0, 0, 0, 0.3));\n",
              "      fill: #FFFFFF;\n",
              "    }\n",
              "  </style>\n",
              "\n",
              "    <script>\n",
              "      const buttonEl =\n",
              "        document.querySelector('#df-01714d6e-7d7d-406c-8778-50c550ed930b button.colab-df-convert');\n",
              "      buttonEl.style.display =\n",
              "        google.colab.kernel.accessAllowed ? 'block' : 'none';\n",
              "\n",
              "      async function convertToInteractive(key) {\n",
              "        const element = document.querySelector('#df-01714d6e-7d7d-406c-8778-50c550ed930b');\n",
              "        const dataTable =\n",
              "          await google.colab.kernel.invokeFunction('convertToInteractive',\n",
              "                                                    [key], {});\n",
              "        if (!dataTable) return;\n",
              "\n",
              "        const docLinkHtml = 'Like what you see? Visit the ' +\n",
              "          '<a target=\"_blank\" href=https://colab.research.google.com/notebooks/data_table.ipynb>data table notebook</a>'\n",
              "          + ' to learn more about interactive tables.';\n",
              "        element.innerHTML = '';\n",
              "        dataTable['output_type'] = 'display_data';\n",
              "        await google.colab.output.renderOutput(dataTable, element);\n",
              "        const docLink = document.createElement('div');\n",
              "        docLink.innerHTML = docLinkHtml;\n",
              "        element.appendChild(docLink);\n",
              "      }\n",
              "    </script>\n",
              "  </div>\n",
              "\n",
              "\n",
              "<div id=\"df-c9038869-c911-437d-9144-66d649c2016d\">\n",
              "  <button class=\"colab-df-quickchart\" onclick=\"quickchart('df-c9038869-c911-437d-9144-66d649c2016d')\"\n",
              "            title=\"Suggest charts.\"\n",
              "            style=\"display:none;\">\n",
              "\n",
              "<svg xmlns=\"http://www.w3.org/2000/svg\" height=\"24px\"viewBox=\"0 0 24 24\"\n",
              "     width=\"24px\">\n",
              "    <g>\n",
              "        <path d=\"M19 3H5c-1.1 0-2 .9-2 2v14c0 1.1.9 2 2 2h14c1.1 0 2-.9 2-2V5c0-1.1-.9-2-2-2zM9 17H7v-7h2v7zm4 0h-2V7h2v10zm4 0h-2v-4h2v4z\"/>\n",
              "    </g>\n",
              "</svg>\n",
              "  </button>\n",
              "\n",
              "<style>\n",
              "  .colab-df-quickchart {\n",
              "      --bg-color: #E8F0FE;\n",
              "      --fill-color: #1967D2;\n",
              "      --hover-bg-color: #E2EBFA;\n",
              "      --hover-fill-color: #174EA6;\n",
              "      --disabled-fill-color: #AAA;\n",
              "      --disabled-bg-color: #DDD;\n",
              "  }\n",
              "\n",
              "  [theme=dark] .colab-df-quickchart {\n",
              "      --bg-color: #3B4455;\n",
              "      --fill-color: #D2E3FC;\n",
              "      --hover-bg-color: #434B5C;\n",
              "      --hover-fill-color: #FFFFFF;\n",
              "      --disabled-bg-color: #3B4455;\n",
              "      --disabled-fill-color: #666;\n",
              "  }\n",
              "\n",
              "  .colab-df-quickchart {\n",
              "    background-color: var(--bg-color);\n",
              "    border: none;\n",
              "    border-radius: 50%;\n",
              "    cursor: pointer;\n",
              "    display: none;\n",
              "    fill: var(--fill-color);\n",
              "    height: 32px;\n",
              "    padding: 0;\n",
              "    width: 32px;\n",
              "  }\n",
              "\n",
              "  .colab-df-quickchart:hover {\n",
              "    background-color: var(--hover-bg-color);\n",
              "    box-shadow: 0 1px 2px rgba(60, 64, 67, 0.3), 0 1px 3px 1px rgba(60, 64, 67, 0.15);\n",
              "    fill: var(--button-hover-fill-color);\n",
              "  }\n",
              "\n",
              "  .colab-df-quickchart-complete:disabled,\n",
              "  .colab-df-quickchart-complete:disabled:hover {\n",
              "    background-color: var(--disabled-bg-color);\n",
              "    fill: var(--disabled-fill-color);\n",
              "    box-shadow: none;\n",
              "  }\n",
              "\n",
              "  .colab-df-spinner {\n",
              "    border: 2px solid var(--fill-color);\n",
              "    border-color: transparent;\n",
              "    border-bottom-color: var(--fill-color);\n",
              "    animation:\n",
              "      spin 1s steps(1) infinite;\n",
              "  }\n",
              "\n",
              "  @keyframes spin {\n",
              "    0% {\n",
              "      border-color: transparent;\n",
              "      border-bottom-color: var(--fill-color);\n",
              "      border-left-color: var(--fill-color);\n",
              "    }\n",
              "    20% {\n",
              "      border-color: transparent;\n",
              "      border-left-color: var(--fill-color);\n",
              "      border-top-color: var(--fill-color);\n",
              "    }\n",
              "    30% {\n",
              "      border-color: transparent;\n",
              "      border-left-color: var(--fill-color);\n",
              "      border-top-color: var(--fill-color);\n",
              "      border-right-color: var(--fill-color);\n",
              "    }\n",
              "    40% {\n",
              "      border-color: transparent;\n",
              "      border-right-color: var(--fill-color);\n",
              "      border-top-color: var(--fill-color);\n",
              "    }\n",
              "    60% {\n",
              "      border-color: transparent;\n",
              "      border-right-color: var(--fill-color);\n",
              "    }\n",
              "    80% {\n",
              "      border-color: transparent;\n",
              "      border-right-color: var(--fill-color);\n",
              "      border-bottom-color: var(--fill-color);\n",
              "    }\n",
              "    90% {\n",
              "      border-color: transparent;\n",
              "      border-bottom-color: var(--fill-color);\n",
              "    }\n",
              "  }\n",
              "</style>\n",
              "\n",
              "  <script>\n",
              "    async function quickchart(key) {\n",
              "      const quickchartButtonEl =\n",
              "        document.querySelector('#' + key + ' button');\n",
              "      quickchartButtonEl.disabled = true;  // To prevent multiple clicks.\n",
              "      quickchartButtonEl.classList.add('colab-df-spinner');\n",
              "      try {\n",
              "        const charts = await google.colab.kernel.invokeFunction(\n",
              "            'suggestCharts', [key], {});\n",
              "      } catch (error) {\n",
              "        console.error('Error during call to suggestCharts:', error);\n",
              "      }\n",
              "      quickchartButtonEl.classList.remove('colab-df-spinner');\n",
              "      quickchartButtonEl.classList.add('colab-df-quickchart-complete');\n",
              "    }\n",
              "    (() => {\n",
              "      let quickchartButtonEl =\n",
              "        document.querySelector('#df-c9038869-c911-437d-9144-66d649c2016d button');\n",
              "      quickchartButtonEl.style.display =\n",
              "        google.colab.kernel.accessAllowed ? 'block' : 'none';\n",
              "    })();\n",
              "  </script>\n",
              "</div>\n",
              "    </div>\n",
              "  </div>\n"
            ]
          },
          "metadata": {},
          "execution_count": 4
        }
      ],
      "source": [
        "# viewing the first few rows of the dataset\n",
        "# the head() function displays the first 5 rows of the dataframe\n",
        "df.head()"
      ]
    },
    {
      "cell_type": "markdown",
      "id": "2689069c",
      "metadata": {
        "id": "2689069c",
        "papermill": {
          "duration": 0.033756,
          "end_time": "2022-01-07T04:46:25.726224",
          "exception": false,
          "start_time": "2022-01-07T04:46:25.692468",
          "status": "completed"
        },
        "tags": []
      },
      "source": [
        "Now, we start answering the lab questions."
      ]
    },
    {
      "cell_type": "markdown",
      "id": "cde2aa65",
      "metadata": {
        "id": "cde2aa65",
        "papermill": {
          "duration": 0.031813,
          "end_time": "2022-01-07T04:46:25.792174",
          "exception": false,
          "start_time": "2022-01-07T04:46:25.760361",
          "status": "completed"
        },
        "tags": []
      },
      "source": [
        "#### **Q1.** How many records are present in the dataset?"
      ]
    },
    {
      "cell_type": "markdown",
      "id": "9958381e",
      "metadata": {
        "id": "9958381e",
        "papermill": {
          "duration": 0.032548,
          "end_time": "2022-01-07T04:46:25.858535",
          "exception": false,
          "start_time": "2022-01-07T04:46:25.825987",
          "status": "completed"
        },
        "tags": []
      },
      "source": [
        "To solve Question 1, we use the shape attribute of a Pandas dataframe and check the number of rows by using index 0."
      ]
    },
    {
      "cell_type": "code",
      "execution_count": null,
      "id": "e5878949",
      "metadata": {
        "execution": {
          "iopub.execute_input": "2022-01-07T04:46:25.929384Z",
          "iopub.status.busy": "2022-01-07T04:46:25.928714Z",
          "iopub.status.idle": "2022-01-07T04:46:25.933964Z",
          "shell.execute_reply": "2022-01-07T04:46:25.934560Z",
          "shell.execute_reply.started": "2022-01-07T04:44:44.024470Z"
        },
        "id": "e5878949",
        "outputId": "e89f6b2f-c9ca-42aa-ea0e-efa1bf4b063c",
        "papermill": {
          "duration": 0.041749,
          "end_time": "2022-01-07T04:46:25.934766",
          "exception": false,
          "start_time": "2022-01-07T04:46:25.893017",
          "status": "completed"
        },
        "tags": [],
        "colab": {
          "base_uri": "https://localhost:8080/"
        }
      },
      "outputs": [
        {
          "output_type": "execute_result",
          "data": {
            "text/plain": [
              "149"
            ]
          },
          "metadata": {},
          "execution_count": 5
        }
      ],
      "source": [
        "# 1. number of records in the dataset\n",
        "df.shape[0]"
      ]
    },
    {
      "cell_type": "markdown",
      "id": "8a2697ec",
      "metadata": {
        "id": "8a2697ec",
        "papermill": {
          "duration": 0.03505,
          "end_time": "2022-01-07T04:46:26.003878",
          "exception": false,
          "start_time": "2022-01-07T04:46:25.968828",
          "status": "completed"
        },
        "tags": []
      },
      "source": [
        "As we can see, there are 149 records in the dataset."
      ]
    },
    {
      "cell_type": "markdown",
      "id": "86dc91be",
      "metadata": {
        "id": "86dc91be",
        "papermill": {
          "duration": 0.032538,
          "end_time": "2022-01-07T04:46:26.070397",
          "exception": false,
          "start_time": "2022-01-07T04:46:26.037859",
          "status": "completed"
        },
        "tags": []
      },
      "source": [
        "#### **Q2.** How many movies were released in each Release Time? Sort number of releases in Release Time in descending order."
      ]
    },
    {
      "cell_type": "markdown",
      "id": "16aa18a7",
      "metadata": {
        "id": "16aa18a7",
        "papermill": {
          "duration": 0.03214,
          "end_time": "2022-01-07T04:46:26.135348",
          "exception": false,
          "start_time": "2022-01-07T04:46:26.103208",
          "status": "completed"
        },
        "tags": []
      },
      "source": [
        "To solve Question 2, we use the function value_counts() from the Pandas library on the ReleaseTime column. The function automatically sorts the counts in descending order."
      ]
    },
    {
      "cell_type": "code",
      "execution_count": null,
      "id": "865c8a70",
      "metadata": {
        "execution": {
          "iopub.execute_input": "2022-01-07T04:46:26.211807Z",
          "iopub.status.busy": "2022-01-07T04:46:26.210935Z",
          "iopub.status.idle": "2022-01-07T04:46:26.220640Z",
          "shell.execute_reply": "2022-01-07T04:46:26.221320Z",
          "shell.execute_reply.started": "2022-01-07T04:44:44.031163Z"
        },
        "id": "865c8a70",
        "outputId": "992c9ea9-27cd-4c6e-d085-d2c15507cad2",
        "papermill": {
          "duration": 0.051926,
          "end_time": "2022-01-07T04:46:26.221515",
          "exception": false,
          "start_time": "2022-01-07T04:46:26.169589",
          "status": "completed"
        },
        "tags": [],
        "colab": {
          "base_uri": "https://localhost:8080/"
        }
      },
      "outputs": [
        {
          "output_type": "execute_result",
          "data": {
            "text/plain": [
              "N     99\n",
              "HS    18\n",
              "FS    17\n",
              "LW    15\n",
              "Name: ReleaseTime, dtype: int64"
            ]
          },
          "metadata": {},
          "execution_count": 6
        }
      ],
      "source": [
        "# 2. finding the number of movies by release time sorted in the descending order\n",
        "df.ReleaseTime.value_counts()"
      ]
    },
    {
      "cell_type": "markdown",
      "id": "955557ea",
      "metadata": {
        "id": "955557ea",
        "papermill": {
          "duration": 0.033062,
          "end_time": "2022-01-07T04:46:26.286451",
          "exception": false,
          "start_time": "2022-01-07T04:46:26.253389",
          "status": "completed"
        },
        "tags": []
      },
      "source": [
        "As we can see, the highest number of movies were released on a normal time, followed by the holiday season, the festive season, and then the long weekend having the lowest number of releases."
      ]
    },
    {
      "cell_type": "markdown",
      "id": "c6e0d9df",
      "metadata": {
        "id": "c6e0d9df",
        "papermill": {
          "duration": 0.03327,
          "end_time": "2022-01-07T04:46:26.354567",
          "exception": false,
          "start_time": "2022-01-07T04:46:26.321297",
          "status": "completed"
        },
        "tags": []
      },
      "source": [
        "#### **Q3.** Which genre had highest number of releases during the Festive Season?"
      ]
    },
    {
      "cell_type": "markdown",
      "id": "86418ebb",
      "metadata": {
        "id": "86418ebb",
        "papermill": {
          "duration": 0.033125,
          "end_time": "2022-01-07T04:46:26.419461",
          "exception": false,
          "start_time": "2022-01-07T04:46:26.386336",
          "status": "completed"
        },
        "tags": []
      },
      "source": [
        "To solve Question 3, we use the strip() function on the string values of the Genre column to remove the leading and trailing spaces. Then, we filter the dataframe using the condition where ReleaseTime is equal to FS and use the value_counts() method on the Genre column to get the number of movies grouped by Genre."
      ]
    },
    {
      "cell_type": "code",
      "execution_count": null,
      "id": "d8a07929",
      "metadata": {
        "execution": {
          "iopub.execute_input": "2022-01-07T04:46:26.490169Z",
          "iopub.status.busy": "2022-01-07T04:46:26.489535Z",
          "iopub.status.idle": "2022-01-07T04:46:26.501074Z",
          "shell.execute_reply": "2022-01-07T04:46:26.501589Z",
          "shell.execute_reply.started": "2022-01-07T04:44:44.051462Z"
        },
        "id": "d8a07929",
        "outputId": "dec6f0ee-6c05-4fea-ab30-6f491fe4e08c",
        "papermill": {
          "duration": 0.047607,
          "end_time": "2022-01-07T04:46:26.501782",
          "exception": false,
          "start_time": "2022-01-07T04:46:26.454175",
          "status": "completed"
        },
        "tags": [],
        "colab": {
          "base_uri": "https://localhost:8080/"
        }
      },
      "outputs": [
        {
          "output_type": "execute_result",
          "data": {
            "text/plain": [
              "Drama       4\n",
              "Thriller    4\n",
              "Action      3\n",
              "Romance     3\n",
              "Comedy      3\n",
              "Name: Genre, dtype: int64"
            ]
          },
          "metadata": {},
          "execution_count": 7
        }
      ],
      "source": [
        "# formatting the genre column\n",
        "df.Genre = df.Genre.str.strip()\n",
        "\n",
        "# 3. finding the genre with the highest number of releases during the festive season\n",
        "df[df.ReleaseTime=='FS'].Genre.value_counts()"
      ]
    },
    {
      "cell_type": "markdown",
      "id": "d19298ff",
      "metadata": {
        "id": "d19298ff",
        "papermill": {
          "duration": 0.031611,
          "end_time": "2022-01-07T04:46:26.565793",
          "exception": false,
          "start_time": "2022-01-07T04:46:26.534182",
          "status": "completed"
        },
        "tags": []
      },
      "source": [
        "As we can see, the genres Thriller and Drama had the highest number of releases during the Festive Season, having 4 released each."
      ]
    },
    {
      "cell_type": "markdown",
      "id": "842928b6",
      "metadata": {
        "id": "842928b6",
        "papermill": {
          "duration": 0.031617,
          "end_time": "2022-01-07T04:46:26.629616",
          "exception": false,
          "start_time": "2022-01-07T04:46:26.597999",
          "status": "completed"
        },
        "tags": []
      },
      "source": [
        "#### **Q4.** How many movies in each genre got released in different release times like long weekend, festive season, etc."
      ]
    },
    {
      "cell_type": "markdown",
      "id": "ab6d3556",
      "metadata": {
        "id": "ab6d3556",
        "papermill": {
          "duration": 0.032883,
          "end_time": "2022-01-07T04:46:26.694444",
          "exception": false,
          "start_time": "2022-01-07T04:46:26.661561",
          "status": "completed"
        },
        "tags": []
      },
      "source": [
        "To solve Question 4, we use the crosstab() function from the Pandas library on the Genre and ReleaseTime columns of the dataframe."
      ]
    },
    {
      "cell_type": "code",
      "execution_count": null,
      "id": "4fefe8a5",
      "metadata": {
        "execution": {
          "iopub.execute_input": "2022-01-07T04:46:26.764256Z",
          "iopub.status.busy": "2022-01-07T04:46:26.763604Z",
          "iopub.status.idle": "2022-01-07T04:46:26.789805Z",
          "shell.execute_reply": "2022-01-07T04:46:26.790360Z",
          "shell.execute_reply.started": "2022-01-07T04:44:44.070525Z"
        },
        "id": "4fefe8a5",
        "outputId": "7d5601ec-ced4-4d09-8897-fe4a868f581b",
        "papermill": {
          "duration": 0.063838,
          "end_time": "2022-01-07T04:46:26.790532",
          "exception": false,
          "start_time": "2022-01-07T04:46:26.726694",
          "status": "completed"
        },
        "tags": [],
        "colab": {
          "base_uri": "https://localhost:8080/",
          "height": 238
        }
      },
      "outputs": [
        {
          "output_type": "execute_result",
          "data": {
            "text/plain": [
              "ReleaseTime  FS  HS  LW   N\n",
              "Genre                      \n",
              "Action        3   3   3  15\n",
              "Comedy        3   5   5  23\n",
              "Drama         4   6   1  24\n",
              "Romance       3   3   4  15\n",
              "Thriller      4   1   2  22"
            ],
            "text/html": [
              "\n",
              "  <div id=\"df-63eb2e21-76ec-4ad5-a249-bcb47ce1d331\" class=\"colab-df-container\">\n",
              "    <div>\n",
              "<style scoped>\n",
              "    .dataframe tbody tr th:only-of-type {\n",
              "        vertical-align: middle;\n",
              "    }\n",
              "\n",
              "    .dataframe tbody tr th {\n",
              "        vertical-align: top;\n",
              "    }\n",
              "\n",
              "    .dataframe thead th {\n",
              "        text-align: right;\n",
              "    }\n",
              "</style>\n",
              "<table border=\"1\" class=\"dataframe\">\n",
              "  <thead>\n",
              "    <tr style=\"text-align: right;\">\n",
              "      <th>ReleaseTime</th>\n",
              "      <th>FS</th>\n",
              "      <th>HS</th>\n",
              "      <th>LW</th>\n",
              "      <th>N</th>\n",
              "    </tr>\n",
              "    <tr>\n",
              "      <th>Genre</th>\n",
              "      <th></th>\n",
              "      <th></th>\n",
              "      <th></th>\n",
              "      <th></th>\n",
              "    </tr>\n",
              "  </thead>\n",
              "  <tbody>\n",
              "    <tr>\n",
              "      <th>Action</th>\n",
              "      <td>3</td>\n",
              "      <td>3</td>\n",
              "      <td>3</td>\n",
              "      <td>15</td>\n",
              "    </tr>\n",
              "    <tr>\n",
              "      <th>Comedy</th>\n",
              "      <td>3</td>\n",
              "      <td>5</td>\n",
              "      <td>5</td>\n",
              "      <td>23</td>\n",
              "    </tr>\n",
              "    <tr>\n",
              "      <th>Drama</th>\n",
              "      <td>4</td>\n",
              "      <td>6</td>\n",
              "      <td>1</td>\n",
              "      <td>24</td>\n",
              "    </tr>\n",
              "    <tr>\n",
              "      <th>Romance</th>\n",
              "      <td>3</td>\n",
              "      <td>3</td>\n",
              "      <td>4</td>\n",
              "      <td>15</td>\n",
              "    </tr>\n",
              "    <tr>\n",
              "      <th>Thriller</th>\n",
              "      <td>4</td>\n",
              "      <td>1</td>\n",
              "      <td>2</td>\n",
              "      <td>22</td>\n",
              "    </tr>\n",
              "  </tbody>\n",
              "</table>\n",
              "</div>\n",
              "    <div class=\"colab-df-buttons\">\n",
              "\n",
              "  <div class=\"colab-df-container\">\n",
              "    <button class=\"colab-df-convert\" onclick=\"convertToInteractive('df-63eb2e21-76ec-4ad5-a249-bcb47ce1d331')\"\n",
              "            title=\"Convert this dataframe to an interactive table.\"\n",
              "            style=\"display:none;\">\n",
              "\n",
              "  <svg xmlns=\"http://www.w3.org/2000/svg\" height=\"24px\" viewBox=\"0 -960 960 960\">\n",
              "    <path d=\"M120-120v-720h720v720H120Zm60-500h600v-160H180v160Zm220 220h160v-160H400v160Zm0 220h160v-160H400v160ZM180-400h160v-160H180v160Zm440 0h160v-160H620v160ZM180-180h160v-160H180v160Zm440 0h160v-160H620v160Z\"/>\n",
              "  </svg>\n",
              "    </button>\n",
              "\n",
              "  <style>\n",
              "    .colab-df-container {\n",
              "      display:flex;\n",
              "      gap: 12px;\n",
              "    }\n",
              "\n",
              "    .colab-df-convert {\n",
              "      background-color: #E8F0FE;\n",
              "      border: none;\n",
              "      border-radius: 50%;\n",
              "      cursor: pointer;\n",
              "      display: none;\n",
              "      fill: #1967D2;\n",
              "      height: 32px;\n",
              "      padding: 0 0 0 0;\n",
              "      width: 32px;\n",
              "    }\n",
              "\n",
              "    .colab-df-convert:hover {\n",
              "      background-color: #E2EBFA;\n",
              "      box-shadow: 0px 1px 2px rgba(60, 64, 67, 0.3), 0px 1px 3px 1px rgba(60, 64, 67, 0.15);\n",
              "      fill: #174EA6;\n",
              "    }\n",
              "\n",
              "    .colab-df-buttons div {\n",
              "      margin-bottom: 4px;\n",
              "    }\n",
              "\n",
              "    [theme=dark] .colab-df-convert {\n",
              "      background-color: #3B4455;\n",
              "      fill: #D2E3FC;\n",
              "    }\n",
              "\n",
              "    [theme=dark] .colab-df-convert:hover {\n",
              "      background-color: #434B5C;\n",
              "      box-shadow: 0px 1px 3px 1px rgba(0, 0, 0, 0.15);\n",
              "      filter: drop-shadow(0px 1px 2px rgba(0, 0, 0, 0.3));\n",
              "      fill: #FFFFFF;\n",
              "    }\n",
              "  </style>\n",
              "\n",
              "    <script>\n",
              "      const buttonEl =\n",
              "        document.querySelector('#df-63eb2e21-76ec-4ad5-a249-bcb47ce1d331 button.colab-df-convert');\n",
              "      buttonEl.style.display =\n",
              "        google.colab.kernel.accessAllowed ? 'block' : 'none';\n",
              "\n",
              "      async function convertToInteractive(key) {\n",
              "        const element = document.querySelector('#df-63eb2e21-76ec-4ad5-a249-bcb47ce1d331');\n",
              "        const dataTable =\n",
              "          await google.colab.kernel.invokeFunction('convertToInteractive',\n",
              "                                                    [key], {});\n",
              "        if (!dataTable) return;\n",
              "\n",
              "        const docLinkHtml = 'Like what you see? Visit the ' +\n",
              "          '<a target=\"_blank\" href=https://colab.research.google.com/notebooks/data_table.ipynb>data table notebook</a>'\n",
              "          + ' to learn more about interactive tables.';\n",
              "        element.innerHTML = '';\n",
              "        dataTable['output_type'] = 'display_data';\n",
              "        await google.colab.output.renderOutput(dataTable, element);\n",
              "        const docLink = document.createElement('div');\n",
              "        docLink.innerHTML = docLinkHtml;\n",
              "        element.appendChild(docLink);\n",
              "      }\n",
              "    </script>\n",
              "  </div>\n",
              "\n",
              "\n",
              "<div id=\"df-1c01c2b1-1dc2-43b7-8b4c-76fa29781f65\">\n",
              "  <button class=\"colab-df-quickchart\" onclick=\"quickchart('df-1c01c2b1-1dc2-43b7-8b4c-76fa29781f65')\"\n",
              "            title=\"Suggest charts.\"\n",
              "            style=\"display:none;\">\n",
              "\n",
              "<svg xmlns=\"http://www.w3.org/2000/svg\" height=\"24px\"viewBox=\"0 0 24 24\"\n",
              "     width=\"24px\">\n",
              "    <g>\n",
              "        <path d=\"M19 3H5c-1.1 0-2 .9-2 2v14c0 1.1.9 2 2 2h14c1.1 0 2-.9 2-2V5c0-1.1-.9-2-2-2zM9 17H7v-7h2v7zm4 0h-2V7h2v10zm4 0h-2v-4h2v4z\"/>\n",
              "    </g>\n",
              "</svg>\n",
              "  </button>\n",
              "\n",
              "<style>\n",
              "  .colab-df-quickchart {\n",
              "      --bg-color: #E8F0FE;\n",
              "      --fill-color: #1967D2;\n",
              "      --hover-bg-color: #E2EBFA;\n",
              "      --hover-fill-color: #174EA6;\n",
              "      --disabled-fill-color: #AAA;\n",
              "      --disabled-bg-color: #DDD;\n",
              "  }\n",
              "\n",
              "  [theme=dark] .colab-df-quickchart {\n",
              "      --bg-color: #3B4455;\n",
              "      --fill-color: #D2E3FC;\n",
              "      --hover-bg-color: #434B5C;\n",
              "      --hover-fill-color: #FFFFFF;\n",
              "      --disabled-bg-color: #3B4455;\n",
              "      --disabled-fill-color: #666;\n",
              "  }\n",
              "\n",
              "  .colab-df-quickchart {\n",
              "    background-color: var(--bg-color);\n",
              "    border: none;\n",
              "    border-radius: 50%;\n",
              "    cursor: pointer;\n",
              "    display: none;\n",
              "    fill: var(--fill-color);\n",
              "    height: 32px;\n",
              "    padding: 0;\n",
              "    width: 32px;\n",
              "  }\n",
              "\n",
              "  .colab-df-quickchart:hover {\n",
              "    background-color: var(--hover-bg-color);\n",
              "    box-shadow: 0 1px 2px rgba(60, 64, 67, 0.3), 0 1px 3px 1px rgba(60, 64, 67, 0.15);\n",
              "    fill: var(--button-hover-fill-color);\n",
              "  }\n",
              "\n",
              "  .colab-df-quickchart-complete:disabled,\n",
              "  .colab-df-quickchart-complete:disabled:hover {\n",
              "    background-color: var(--disabled-bg-color);\n",
              "    fill: var(--disabled-fill-color);\n",
              "    box-shadow: none;\n",
              "  }\n",
              "\n",
              "  .colab-df-spinner {\n",
              "    border: 2px solid var(--fill-color);\n",
              "    border-color: transparent;\n",
              "    border-bottom-color: var(--fill-color);\n",
              "    animation:\n",
              "      spin 1s steps(1) infinite;\n",
              "  }\n",
              "\n",
              "  @keyframes spin {\n",
              "    0% {\n",
              "      border-color: transparent;\n",
              "      border-bottom-color: var(--fill-color);\n",
              "      border-left-color: var(--fill-color);\n",
              "    }\n",
              "    20% {\n",
              "      border-color: transparent;\n",
              "      border-left-color: var(--fill-color);\n",
              "      border-top-color: var(--fill-color);\n",
              "    }\n",
              "    30% {\n",
              "      border-color: transparent;\n",
              "      border-left-color: var(--fill-color);\n",
              "      border-top-color: var(--fill-color);\n",
              "      border-right-color: var(--fill-color);\n",
              "    }\n",
              "    40% {\n",
              "      border-color: transparent;\n",
              "      border-right-color: var(--fill-color);\n",
              "      border-top-color: var(--fill-color);\n",
              "    }\n",
              "    60% {\n",
              "      border-color: transparent;\n",
              "      border-right-color: var(--fill-color);\n",
              "    }\n",
              "    80% {\n",
              "      border-color: transparent;\n",
              "      border-right-color: var(--fill-color);\n",
              "      border-bottom-color: var(--fill-color);\n",
              "    }\n",
              "    90% {\n",
              "      border-color: transparent;\n",
              "      border-bottom-color: var(--fill-color);\n",
              "    }\n",
              "  }\n",
              "</style>\n",
              "\n",
              "  <script>\n",
              "    async function quickchart(key) {\n",
              "      const quickchartButtonEl =\n",
              "        document.querySelector('#' + key + ' button');\n",
              "      quickchartButtonEl.disabled = true;  // To prevent multiple clicks.\n",
              "      quickchartButtonEl.classList.add('colab-df-spinner');\n",
              "      try {\n",
              "        const charts = await google.colab.kernel.invokeFunction(\n",
              "            'suggestCharts', [key], {});\n",
              "      } catch (error) {\n",
              "        console.error('Error during call to suggestCharts:', error);\n",
              "      }\n",
              "      quickchartButtonEl.classList.remove('colab-df-spinner');\n",
              "      quickchartButtonEl.classList.add('colab-df-quickchart-complete');\n",
              "    }\n",
              "    (() => {\n",
              "      let quickchartButtonEl =\n",
              "        document.querySelector('#df-1c01c2b1-1dc2-43b7-8b4c-76fa29781f65 button');\n",
              "      quickchartButtonEl.style.display =\n",
              "        google.colab.kernel.accessAllowed ? 'block' : 'none';\n",
              "    })();\n",
              "  </script>\n",
              "</div>\n",
              "    </div>\n",
              "  </div>\n"
            ]
          },
          "metadata": {},
          "execution_count": 8
        }
      ],
      "source": [
        "# 4. cross tab between Genre and ReleaseTime\n",
        "pd.crosstab(df.Genre, df.ReleaseTime)"
      ]
    },
    {
      "cell_type": "markdown",
      "id": "bd520793",
      "metadata": {
        "id": "bd520793",
        "papermill": {
          "duration": 0.035691,
          "end_time": "2022-01-07T04:46:26.859584",
          "exception": false,
          "start_time": "2022-01-07T04:46:26.823893",
          "status": "completed"
        },
        "tags": []
      },
      "source": [
        "As we can see, there are:\n",
        "*   3 Action, 3 Comedy, 4 Drama, 3 Romance and 4 Thriller movies released during the Festive Season.\n",
        "*   3 Action, 5 Comedy, 6 Drama, 3 Romance and 1 Thriller movies released during the Holiday Season.\n",
        "*   3 Action, 5 Comedy, 1 Drama, 4 Romance and 2 Thriller movies released during the Long Weekend.\n",
        "*   15 Action, 23 Comedy, 24 Drama, 15 Romance and 22 Thriller movies released during the Normal Period."
      ]
    },
    {
      "cell_type": "markdown",
      "id": "2ad13787",
      "metadata": {
        "id": "2ad13787",
        "papermill": {
          "duration": 0.037165,
          "end_time": "2022-01-07T04:46:26.928796",
          "exception": false,
          "start_time": "2022-01-07T04:46:26.891631",
          "status": "completed"
        },
        "tags": []
      },
      "source": [
        "#### **Q5.** In which year were maximum number movie released?"
      ]
    },
    {
      "cell_type": "markdown",
      "id": "c94f8ba4",
      "metadata": {
        "id": "c94f8ba4",
        "papermill": {
          "duration": 0.031883,
          "end_time": "2022-01-07T04:46:26.996511",
          "exception": false,
          "start_time": "2022-01-07T04:46:26.964628",
          "status": "completed"
        },
        "tags": []
      },
      "source": [
        "To solve Question 5, we first convert the data type of the Release Date column to datetime using the to_datetime() function from the Pandas library. After that, we generate a new column Year by extracting the year attribute from the Release Date column. Following that, we use the value_counts() function from the Pandas library to get the number of movies released for every value of year."
      ]
    },
    {
      "cell_type": "code",
      "execution_count": null,
      "id": "1567ad3b",
      "metadata": {
        "execution": {
          "iopub.execute_input": "2022-01-07T04:46:27.067511Z",
          "iopub.status.busy": "2022-01-07T04:46:27.066870Z",
          "iopub.status.idle": "2022-01-07T04:46:27.091193Z",
          "shell.execute_reply": "2022-01-07T04:46:27.091718Z",
          "shell.execute_reply.started": "2022-01-07T04:44:44.103664Z"
        },
        "id": "1567ad3b",
        "outputId": "38caa50f-0b6c-47c3-db0d-f6046858c70d",
        "papermill": {
          "duration": 0.061876,
          "end_time": "2022-01-07T04:46:27.091936",
          "exception": false,
          "start_time": "2022-01-07T04:46:27.030060",
          "status": "completed"
        },
        "tags": [],
        "colab": {
          "base_uri": "https://localhost:8080/"
        }
      },
      "outputs": [
        {
          "output_type": "execute_result",
          "data": {
            "text/plain": [
              "2014    70\n",
              "2013    67\n",
              "2015    12\n",
              "Name: Year, dtype: int64"
            ]
          },
          "metadata": {},
          "execution_count": 10
        }
      ],
      "source": [
        "# 5. finding the year when the maximum number of movies were released\n",
        "\n",
        "# converting Release Date into datetime data type\n",
        "df['ReleaseDate'] = pd.to_datetime(df['ReleaseDate'])\n",
        "\n",
        "# generating a year column to extract the date from the column Release Date\n",
        "df['Year'] = df['ReleaseDate'].dt.year\n",
        "\n",
        "# finding the year when the maximum number of movies were released\n",
        "df.Year.value_counts()"
      ]
    },
    {
      "cell_type": "markdown",
      "id": "1f6034f0",
      "metadata": {
        "id": "1f6034f0",
        "papermill": {
          "duration": 0.036614,
          "end_time": "2022-01-07T04:46:27.165156",
          "exception": false,
          "start_time": "2022-01-07T04:46:27.128542",
          "status": "completed"
        },
        "tags": []
      },
      "source": [
        "As we can see, the maximum number of movies were released in the year 2014."
      ]
    },
    {
      "cell_type": "markdown",
      "id": "d93eaceb",
      "metadata": {
        "id": "d93eaceb",
        "papermill": {
          "duration": 0.032821,
          "end_time": "2022-01-07T04:46:27.236240",
          "exception": false,
          "start_time": "2022-01-07T04:46:27.203419",
          "status": "completed"
        },
        "tags": []
      },
      "source": [
        "#### **Q6.** Which month of the year typically sees most releases of high budgeted movies, that is, movies with budget of 30 crore or more?"
      ]
    },
    {
      "cell_type": "markdown",
      "id": "f4b7bf11",
      "metadata": {
        "id": "f4b7bf11",
        "papermill": {
          "duration": 0.036143,
          "end_time": "2022-01-07T04:46:27.312603",
          "exception": false,
          "start_time": "2022-01-07T04:46:27.276460",
          "status": "completed"
        },
        "tags": []
      },
      "source": [
        "To solve Question 6, we filter the dataframe using the condition that the Budget is >= 30 crores and then extract the month from the Release Date column using the month attribute. After that, we use the value_counts() function from the Pandas library on the month extracted to get the number of movies released for every value of the month."
      ]
    },
    {
      "cell_type": "code",
      "execution_count": null,
      "id": "e5091cd5",
      "metadata": {
        "execution": {
          "iopub.execute_input": "2022-01-07T04:46:27.388073Z",
          "iopub.status.busy": "2022-01-07T04:46:27.387420Z",
          "iopub.status.idle": "2022-01-07T04:46:27.397942Z",
          "shell.execute_reply": "2022-01-07T04:46:27.398596Z",
          "shell.execute_reply.started": "2022-01-07T04:44:44.131752Z"
        },
        "id": "e5091cd5",
        "outputId": "7c3f047f-c37e-4911-cca0-293567bef2e1",
        "papermill": {
          "duration": 0.049036,
          "end_time": "2022-01-07T04:46:27.398847",
          "exception": false,
          "start_time": "2022-01-07T04:46:27.349811",
          "status": "completed"
        },
        "tags": [],
        "colab": {
          "base_uri": "https://localhost:8080/"
        }
      },
      "outputs": [
        {
          "output_type": "execute_result",
          "data": {
            "text/plain": [
              "2     8\n",
              "8     7\n",
              "1     6\n",
              "11    6\n",
              "6     5\n",
              "7     5\n",
              "9     4\n",
              "10    4\n",
              "4     3\n",
              "3     3\n",
              "5     3\n",
              "12    2\n",
              "Name: ReleaseDate, dtype: int64"
            ]
          },
          "metadata": {},
          "execution_count": 12
        }
      ],
      "source": [
        "# 6. finding the month which sees maximum number of high budget movies\n",
        "df[df.Budget>=30]['ReleaseDate'].dt.month.value_counts()"
      ]
    },
    {
      "cell_type": "markdown",
      "id": "051f94d6",
      "metadata": {
        "id": "051f94d6",
        "papermill": {
          "duration": 0.03574,
          "end_time": "2022-01-07T04:46:27.471718",
          "exception": false,
          "start_time": "2022-01-07T04:46:27.435978",
          "status": "completed"
        },
        "tags": []
      },
      "source": [
        "As we can see, the month 2 - February typically sees most releases of high budgeted movies."
      ]
    },
    {
      "cell_type": "markdown",
      "id": "5c05c7c7",
      "metadata": {
        "id": "5c05c7c7",
        "papermill": {
          "duration": 0.035648,
          "end_time": "2022-01-07T04:46:27.543557",
          "exception": false,
          "start_time": "2022-01-07T04:46:27.507909",
          "status": "completed"
        },
        "tags": []
      },
      "source": [
        "#### **Q7.** Which are the top 10 flop movies with minimum return on investment (ROI)?"
      ]
    },
    {
      "cell_type": "markdown",
      "id": "4ef7145a",
      "metadata": {
        "id": "4ef7145a",
        "papermill": {
          "duration": 0.037204,
          "end_time": "2022-01-07T04:46:27.617469",
          "exception": false,
          "start_time": "2022-01-07T04:46:27.580265",
          "status": "completed"
        },
        "tags": []
      },
      "source": [
        "To solve Question 7, we first generate a new column in the dataframe called ROI using the formula  (BoxOfficeCollection – Budget) / Budget. Then we sort the dataframe in the ascending order by the column ROI and display the top 10 columns using splicing."
      ]
    },
    {
      "cell_type": "code",
      "execution_count": null,
      "id": "41c4fe15",
      "metadata": {
        "execution": {
          "iopub.execute_input": "2022-01-07T04:46:27.689751Z",
          "iopub.status.busy": "2022-01-07T04:46:27.689097Z",
          "iopub.status.idle": "2022-01-07T04:46:27.697838Z",
          "shell.execute_reply": "2022-01-07T04:46:27.698371Z",
          "shell.execute_reply.started": "2022-01-07T04:44:44.142220Z"
        },
        "id": "41c4fe15",
        "outputId": "d034f2c7-8a09-4317-a246-b9fa39e952c2",
        "papermill": {
          "duration": 0.045802,
          "end_time": "2022-01-07T04:46:27.698573",
          "exception": false,
          "start_time": "2022-01-07T04:46:27.652771",
          "status": "completed"
        },
        "tags": [],
        "colab": {
          "base_uri": "https://localhost:8080/"
        }
      },
      "outputs": [
        {
          "output_type": "execute_result",
          "data": {
            "text/plain": [
              "9              Gangoobai\n",
              "15               Bandook\n",
              "53               SonaSpa\n",
              "3        RajdhaniExpress\n",
              "49     KyaDilliKyaLahore\n",
              "121               Satya2\n",
              "67           PuraniJeans\n",
              "103         SamratandCo.\n",
              "30             Heartless\n",
              "102              Kaanchi\n",
              "Name: MovieName, dtype: object"
            ]
          },
          "metadata": {},
          "execution_count": 13
        }
      ],
      "source": [
        "# 7. finding the top 10 flop movies with minimum ROI\n",
        "\n",
        "# creating the ROI column\n",
        "df['ROI'] = (df.BoxOfficeCollection - df.Budget)/df.Budget\n",
        "\n",
        "# sorting the values and displaying the top 10 flop movies\n",
        "df.sort_values(by='ROI').MovieName[0:10]"
      ]
    },
    {
      "cell_type": "markdown",
      "id": "04d1b1d6",
      "metadata": {
        "id": "04d1b1d6",
        "papermill": {
          "duration": 0.036544,
          "end_time": "2022-01-07T04:46:27.773556",
          "exception": false,
          "start_time": "2022-01-07T04:46:27.737012",
          "status": "completed"
        },
        "tags": []
      },
      "source": [
        "As we can see, the movies Gangoobai, Bandook, Sona Spa, Rajdhani Express, Kya Dilli Kya Lahore, Satya 2, Purani Jeans, Samrat and Co., Heartless, and Kaanchi have the minimum ROI and are the top 10 flop movies."
      ]
    },
    {
      "cell_type": "markdown",
      "id": "b48cb7a1",
      "metadata": {
        "id": "b48cb7a1",
        "papermill": {
          "duration": 0.035461,
          "end_time": "2022-01-07T04:46:27.846174",
          "exception": false,
          "start_time": "2022-01-07T04:46:27.810713",
          "status": "completed"
        },
        "tags": []
      },
      "source": [
        "#### **Q8.** Do the movies have higher ROI if they get released on festive seasons or long weekend? Calculate the average ROI for different release times."
      ]
    },
    {
      "cell_type": "markdown",
      "id": "5941471a",
      "metadata": {
        "id": "5941471a",
        "papermill": {
          "duration": 0.037092,
          "end_time": "2022-01-07T04:46:27.920501",
          "exception": false,
          "start_time": "2022-01-07T04:46:27.883409",
          "status": "completed"
        },
        "tags": []
      },
      "source": [
        "To solve Question 8, we group the dataframe by the Release Date column using the groupby() function from the Pandas library and then calculate mean of the groups using the mean() function from the Pandas library on the ROI column of the grouped dataset."
      ]
    },
    {
      "cell_type": "code",
      "execution_count": null,
      "id": "1ee28da5",
      "metadata": {
        "execution": {
          "iopub.execute_input": "2022-01-07T04:46:27.995874Z",
          "iopub.status.busy": "2022-01-07T04:46:27.995087Z",
          "iopub.status.idle": "2022-01-07T04:46:28.007349Z",
          "shell.execute_reply": "2022-01-07T04:46:28.007984Z",
          "shell.execute_reply.started": "2022-01-07T04:44:44.159093Z"
        },
        "id": "1ee28da5",
        "outputId": "2f5d4a53-f63b-444f-e2e2-e9768cc2b643",
        "papermill": {
          "duration": 0.051752,
          "end_time": "2022-01-07T04:46:28.008198",
          "exception": false,
          "start_time": "2022-01-07T04:46:27.956446",
          "status": "completed"
        },
        "tags": [],
        "colab": {
          "base_uri": "https://localhost:8080/"
        }
      },
      "outputs": [
        {
          "output_type": "execute_result",
          "data": {
            "text/plain": [
              "ReleaseTime\n",
              "FS    0.973853\n",
              "HS    0.850867\n",
              "LW    1.127205\n",
              "N     0.657722\n",
              "Name: ROI, dtype: float64"
            ]
          },
          "metadata": {},
          "execution_count": 14
        }
      ],
      "source": [
        "# 8. calculating average ROI based on ReleaseTime\n",
        "df.groupby(by='ReleaseTime').ROI.mean()"
      ]
    },
    {
      "cell_type": "markdown",
      "id": "beadfb7c",
      "metadata": {
        "id": "beadfb7c",
        "papermill": {
          "duration": 0.039172,
          "end_time": "2022-01-07T04:46:28.091497",
          "exception": false,
          "start_time": "2022-01-07T04:46:28.052325",
          "status": "completed"
        },
        "tags": []
      },
      "source": [
        "As we can see, movies which release on the long weekend and festive seasons have higher values of ROI - 1.12 and 0.97 respectively."
      ]
    },
    {
      "cell_type": "markdown",
      "id": "053d8df4",
      "metadata": {
        "id": "053d8df4",
        "papermill": {
          "duration": 0.038306,
          "end_time": "2022-01-07T04:46:28.163848",
          "exception": false,
          "start_time": "2022-01-07T04:46:28.125542",
          "status": "completed"
        },
        "tags": []
      },
      "source": [
        "#### **Q9.** Is there a correlation between box office collection and YouTube likes? Is the correlation positive or negative?\n"
      ]
    },
    {
      "cell_type": "markdown",
      "id": "d00e33fe",
      "metadata": {
        "id": "d00e33fe",
        "papermill": {
          "duration": 0.034424,
          "end_time": "2022-01-07T04:46:28.235948",
          "exception": false,
          "start_time": "2022-01-07T04:46:28.201524",
          "status": "completed"
        },
        "tags": []
      },
      "source": [
        "To solve Question 9, we use the corr() function from the Pandas library on the BoxOfficeCollection and YoutubeLikes columns of the dataframe."
      ]
    },
    {
      "cell_type": "code",
      "execution_count": null,
      "id": "4f1a4e4c",
      "metadata": {
        "execution": {
          "iopub.execute_input": "2022-01-07T04:46:28.312457Z",
          "iopub.status.busy": "2022-01-07T04:46:28.311819Z",
          "iopub.status.idle": "2022-01-07T04:46:28.321870Z",
          "shell.execute_reply": "2022-01-07T04:46:28.322448Z",
          "shell.execute_reply.started": "2022-01-07T04:44:44.172956Z"
        },
        "id": "4f1a4e4c",
        "outputId": "df9baa45-ab38-42ae-ae24-06449ea3f331",
        "papermill": {
          "duration": 0.049692,
          "end_time": "2022-01-07T04:46:28.322623",
          "exception": false,
          "start_time": "2022-01-07T04:46:28.272931",
          "status": "completed"
        },
        "tags": [],
        "colab": {
          "base_uri": "https://localhost:8080/",
          "height": 112
        }
      },
      "outputs": [
        {
          "output_type": "execute_result",
          "data": {
            "text/plain": [
              "                     BoxOfficeCollection  YoutubeLikes\n",
              "BoxOfficeCollection             1.000000      0.682517\n",
              "YoutubeLikes                    0.682517      1.000000"
            ],
            "text/html": [
              "\n",
              "  <div id=\"df-5a286544-68b6-4498-9438-b9ae43fafe2c\" class=\"colab-df-container\">\n",
              "    <div>\n",
              "<style scoped>\n",
              "    .dataframe tbody tr th:only-of-type {\n",
              "        vertical-align: middle;\n",
              "    }\n",
              "\n",
              "    .dataframe tbody tr th {\n",
              "        vertical-align: top;\n",
              "    }\n",
              "\n",
              "    .dataframe thead th {\n",
              "        text-align: right;\n",
              "    }\n",
              "</style>\n",
              "<table border=\"1\" class=\"dataframe\">\n",
              "  <thead>\n",
              "    <tr style=\"text-align: right;\">\n",
              "      <th></th>\n",
              "      <th>BoxOfficeCollection</th>\n",
              "      <th>YoutubeLikes</th>\n",
              "    </tr>\n",
              "  </thead>\n",
              "  <tbody>\n",
              "    <tr>\n",
              "      <th>BoxOfficeCollection</th>\n",
              "      <td>1.000000</td>\n",
              "      <td>0.682517</td>\n",
              "    </tr>\n",
              "    <tr>\n",
              "      <th>YoutubeLikes</th>\n",
              "      <td>0.682517</td>\n",
              "      <td>1.000000</td>\n",
              "    </tr>\n",
              "  </tbody>\n",
              "</table>\n",
              "</div>\n",
              "    <div class=\"colab-df-buttons\">\n",
              "\n",
              "  <div class=\"colab-df-container\">\n",
              "    <button class=\"colab-df-convert\" onclick=\"convertToInteractive('df-5a286544-68b6-4498-9438-b9ae43fafe2c')\"\n",
              "            title=\"Convert this dataframe to an interactive table.\"\n",
              "            style=\"display:none;\">\n",
              "\n",
              "  <svg xmlns=\"http://www.w3.org/2000/svg\" height=\"24px\" viewBox=\"0 -960 960 960\">\n",
              "    <path d=\"M120-120v-720h720v720H120Zm60-500h600v-160H180v160Zm220 220h160v-160H400v160Zm0 220h160v-160H400v160ZM180-400h160v-160H180v160Zm440 0h160v-160H620v160ZM180-180h160v-160H180v160Zm440 0h160v-160H620v160Z\"/>\n",
              "  </svg>\n",
              "    </button>\n",
              "\n",
              "  <style>\n",
              "    .colab-df-container {\n",
              "      display:flex;\n",
              "      gap: 12px;\n",
              "    }\n",
              "\n",
              "    .colab-df-convert {\n",
              "      background-color: #E8F0FE;\n",
              "      border: none;\n",
              "      border-radius: 50%;\n",
              "      cursor: pointer;\n",
              "      display: none;\n",
              "      fill: #1967D2;\n",
              "      height: 32px;\n",
              "      padding: 0 0 0 0;\n",
              "      width: 32px;\n",
              "    }\n",
              "\n",
              "    .colab-df-convert:hover {\n",
              "      background-color: #E2EBFA;\n",
              "      box-shadow: 0px 1px 2px rgba(60, 64, 67, 0.3), 0px 1px 3px 1px rgba(60, 64, 67, 0.15);\n",
              "      fill: #174EA6;\n",
              "    }\n",
              "\n",
              "    .colab-df-buttons div {\n",
              "      margin-bottom: 4px;\n",
              "    }\n",
              "\n",
              "    [theme=dark] .colab-df-convert {\n",
              "      background-color: #3B4455;\n",
              "      fill: #D2E3FC;\n",
              "    }\n",
              "\n",
              "    [theme=dark] .colab-df-convert:hover {\n",
              "      background-color: #434B5C;\n",
              "      box-shadow: 0px 1px 3px 1px rgba(0, 0, 0, 0.15);\n",
              "      filter: drop-shadow(0px 1px 2px rgba(0, 0, 0, 0.3));\n",
              "      fill: #FFFFFF;\n",
              "    }\n",
              "  </style>\n",
              "\n",
              "    <script>\n",
              "      const buttonEl =\n",
              "        document.querySelector('#df-5a286544-68b6-4498-9438-b9ae43fafe2c button.colab-df-convert');\n",
              "      buttonEl.style.display =\n",
              "        google.colab.kernel.accessAllowed ? 'block' : 'none';\n",
              "\n",
              "      async function convertToInteractive(key) {\n",
              "        const element = document.querySelector('#df-5a286544-68b6-4498-9438-b9ae43fafe2c');\n",
              "        const dataTable =\n",
              "          await google.colab.kernel.invokeFunction('convertToInteractive',\n",
              "                                                    [key], {});\n",
              "        if (!dataTable) return;\n",
              "\n",
              "        const docLinkHtml = 'Like what you see? Visit the ' +\n",
              "          '<a target=\"_blank\" href=https://colab.research.google.com/notebooks/data_table.ipynb>data table notebook</a>'\n",
              "          + ' to learn more about interactive tables.';\n",
              "        element.innerHTML = '';\n",
              "        dataTable['output_type'] = 'display_data';\n",
              "        await google.colab.output.renderOutput(dataTable, element);\n",
              "        const docLink = document.createElement('div');\n",
              "        docLink.innerHTML = docLinkHtml;\n",
              "        element.appendChild(docLink);\n",
              "      }\n",
              "    </script>\n",
              "  </div>\n",
              "\n",
              "\n",
              "<div id=\"df-efed22ac-1c41-4170-8861-c074658a0ad4\">\n",
              "  <button class=\"colab-df-quickchart\" onclick=\"quickchart('df-efed22ac-1c41-4170-8861-c074658a0ad4')\"\n",
              "            title=\"Suggest charts.\"\n",
              "            style=\"display:none;\">\n",
              "\n",
              "<svg xmlns=\"http://www.w3.org/2000/svg\" height=\"24px\"viewBox=\"0 0 24 24\"\n",
              "     width=\"24px\">\n",
              "    <g>\n",
              "        <path d=\"M19 3H5c-1.1 0-2 .9-2 2v14c0 1.1.9 2 2 2h14c1.1 0 2-.9 2-2V5c0-1.1-.9-2-2-2zM9 17H7v-7h2v7zm4 0h-2V7h2v10zm4 0h-2v-4h2v4z\"/>\n",
              "    </g>\n",
              "</svg>\n",
              "  </button>\n",
              "\n",
              "<style>\n",
              "  .colab-df-quickchart {\n",
              "      --bg-color: #E8F0FE;\n",
              "      --fill-color: #1967D2;\n",
              "      --hover-bg-color: #E2EBFA;\n",
              "      --hover-fill-color: #174EA6;\n",
              "      --disabled-fill-color: #AAA;\n",
              "      --disabled-bg-color: #DDD;\n",
              "  }\n",
              "\n",
              "  [theme=dark] .colab-df-quickchart {\n",
              "      --bg-color: #3B4455;\n",
              "      --fill-color: #D2E3FC;\n",
              "      --hover-bg-color: #434B5C;\n",
              "      --hover-fill-color: #FFFFFF;\n",
              "      --disabled-bg-color: #3B4455;\n",
              "      --disabled-fill-color: #666;\n",
              "  }\n",
              "\n",
              "  .colab-df-quickchart {\n",
              "    background-color: var(--bg-color);\n",
              "    border: none;\n",
              "    border-radius: 50%;\n",
              "    cursor: pointer;\n",
              "    display: none;\n",
              "    fill: var(--fill-color);\n",
              "    height: 32px;\n",
              "    padding: 0;\n",
              "    width: 32px;\n",
              "  }\n",
              "\n",
              "  .colab-df-quickchart:hover {\n",
              "    background-color: var(--hover-bg-color);\n",
              "    box-shadow: 0 1px 2px rgba(60, 64, 67, 0.3), 0 1px 3px 1px rgba(60, 64, 67, 0.15);\n",
              "    fill: var(--button-hover-fill-color);\n",
              "  }\n",
              "\n",
              "  .colab-df-quickchart-complete:disabled,\n",
              "  .colab-df-quickchart-complete:disabled:hover {\n",
              "    background-color: var(--disabled-bg-color);\n",
              "    fill: var(--disabled-fill-color);\n",
              "    box-shadow: none;\n",
              "  }\n",
              "\n",
              "  .colab-df-spinner {\n",
              "    border: 2px solid var(--fill-color);\n",
              "    border-color: transparent;\n",
              "    border-bottom-color: var(--fill-color);\n",
              "    animation:\n",
              "      spin 1s steps(1) infinite;\n",
              "  }\n",
              "\n",
              "  @keyframes spin {\n",
              "    0% {\n",
              "      border-color: transparent;\n",
              "      border-bottom-color: var(--fill-color);\n",
              "      border-left-color: var(--fill-color);\n",
              "    }\n",
              "    20% {\n",
              "      border-color: transparent;\n",
              "      border-left-color: var(--fill-color);\n",
              "      border-top-color: var(--fill-color);\n",
              "    }\n",
              "    30% {\n",
              "      border-color: transparent;\n",
              "      border-left-color: var(--fill-color);\n",
              "      border-top-color: var(--fill-color);\n",
              "      border-right-color: var(--fill-color);\n",
              "    }\n",
              "    40% {\n",
              "      border-color: transparent;\n",
              "      border-right-color: var(--fill-color);\n",
              "      border-top-color: var(--fill-color);\n",
              "    }\n",
              "    60% {\n",
              "      border-color: transparent;\n",
              "      border-right-color: var(--fill-color);\n",
              "    }\n",
              "    80% {\n",
              "      border-color: transparent;\n",
              "      border-right-color: var(--fill-color);\n",
              "      border-bottom-color: var(--fill-color);\n",
              "    }\n",
              "    90% {\n",
              "      border-color: transparent;\n",
              "      border-bottom-color: var(--fill-color);\n",
              "    }\n",
              "  }\n",
              "</style>\n",
              "\n",
              "  <script>\n",
              "    async function quickchart(key) {\n",
              "      const quickchartButtonEl =\n",
              "        document.querySelector('#' + key + ' button');\n",
              "      quickchartButtonEl.disabled = true;  // To prevent multiple clicks.\n",
              "      quickchartButtonEl.classList.add('colab-df-spinner');\n",
              "      try {\n",
              "        const charts = await google.colab.kernel.invokeFunction(\n",
              "            'suggestCharts', [key], {});\n",
              "      } catch (error) {\n",
              "        console.error('Error during call to suggestCharts:', error);\n",
              "      }\n",
              "      quickchartButtonEl.classList.remove('colab-df-spinner');\n",
              "      quickchartButtonEl.classList.add('colab-df-quickchart-complete');\n",
              "    }\n",
              "    (() => {\n",
              "      let quickchartButtonEl =\n",
              "        document.querySelector('#df-efed22ac-1c41-4170-8861-c074658a0ad4 button');\n",
              "      quickchartButtonEl.style.display =\n",
              "        google.colab.kernel.accessAllowed ? 'block' : 'none';\n",
              "    })();\n",
              "  </script>\n",
              "</div>\n",
              "    </div>\n",
              "  </div>\n"
            ]
          },
          "metadata": {},
          "execution_count": 15
        }
      ],
      "source": [
        "# 9. correlation between BoxOfficeCollection and YoutubeLikes\n",
        "corr = df[['BoxOfficeCollection', 'YoutubeLikes']].corr()\n",
        "corr"
      ]
    },
    {
      "cell_type": "markdown",
      "id": "f7dbbeb3",
      "metadata": {
        "id": "f7dbbeb3",
        "papermill": {
          "duration": 0.035059,
          "end_time": "2022-01-07T04:46:28.393897",
          "exception": false,
          "start_time": "2022-01-07T04:46:28.358838",
          "status": "completed"
        },
        "tags": []
      },
      "source": [
        "As we can see, the columns BoxOfficeCollection and YoutubeLikes have a moderate degree of positive linear correlation, having correlation coefficient 0.68. This means that if BoxOfficeCollection increases by 100%, the YoutubeLikes also increase by 68%."
      ]
    },
    {
      "cell_type": "markdown",
      "id": "2b470370",
      "metadata": {
        "id": "2b470370",
        "papermill": {
          "duration": 0.033837,
          "end_time": "2022-01-07T04:46:28.463504",
          "exception": false,
          "start_time": "2022-01-07T04:46:28.429667",
          "status": "completed"
        },
        "tags": []
      },
      "source": [
        "#### **Q10.** Which genre of movies typically sees more YouTube views? Draw boxplots for each genre of movies to compare."
      ]
    },
    {
      "cell_type": "markdown",
      "id": "d6d28952",
      "metadata": {
        "id": "d6d28952",
        "papermill": {
          "duration": 0.037231,
          "end_time": "2022-01-07T04:46:28.535290",
          "exception": false,
          "start_time": "2022-01-07T04:46:28.498059",
          "status": "completed"
        },
        "tags": []
      },
      "source": [
        "To solve Question 10, we use the boxplot() function from the Seaborn library and pass the values Genre to be plotted on the x-axis and YoutubeViews to be plotted on the y-axis."
      ]
    },
    {
      "cell_type": "code",
      "execution_count": null,
      "id": "96cad00b",
      "metadata": {
        "execution": {
          "iopub.execute_input": "2022-01-07T04:46:28.612083Z",
          "iopub.status.busy": "2022-01-07T04:46:28.611391Z",
          "iopub.status.idle": "2022-01-07T04:46:28.891189Z",
          "shell.execute_reply": "2022-01-07T04:46:28.890662Z",
          "shell.execute_reply.started": "2022-01-07T04:44:44.190414Z"
        },
        "id": "96cad00b",
        "outputId": "5993e074-7274-4537-d2bb-ca07cb72a682",
        "papermill": {
          "duration": 0.320073,
          "end_time": "2022-01-07T04:46:28.891343",
          "exception": false,
          "start_time": "2022-01-07T04:46:28.571270",
          "status": "completed"
        },
        "tags": [],
        "colab": {
          "base_uri": "https://localhost:8080/",
          "height": 482
        }
      },
      "outputs": [
        {
          "output_type": "execute_result",
          "data": {
            "text/plain": [
              "<Axes: xlabel='Genre', ylabel='YoutubeViews'>"
            ]
          },
          "metadata": {},
          "execution_count": 16
        },
        {
          "output_type": "display_data",
          "data": {
            "text/plain": [
              "<Figure size 640x480 with 1 Axes>"
            ],
            "image/png": "[encoded data removed]"
          },
          "metadata": {}
        }
      ],
      "source": [
        "# 10. comparing Youtube views of genre by plotting boxplots\n",
        "sns.boxplot(x='Genre', y='YoutubeViews', data=df)"
      ]
    },
    {
      "cell_type": "markdown",
      "id": "8d6f8c6e",
      "metadata": {
        "id": "8d6f8c6e",
        "papermill": {
          "duration": 0.035131,
          "end_time": "2022-01-07T04:46:28.961854",
          "exception": false,
          "start_time": "2022-01-07T04:46:28.926723",
          "status": "completed"
        },
        "tags": []
      },
      "source": [
        "As we can see, the Genre Action has the highest YouTube views."
      ]
    },
    {
      "cell_type": "markdown",
      "id": "8d664eb1",
      "metadata": {
        "id": "8d664eb1",
        "papermill": {
          "duration": 0.03545,
          "end_time": "2022-01-07T04:46:29.033503",
          "exception": false,
          "start_time": "2022-01-07T04:46:28.998053",
          "status": "completed"
        },
        "tags": []
      },
      "source": [
        "#### **Q11.** Which of the variables among Budget, BoxOfficeCollection, YoutubeView, YoutubeLikes, YoutubeDislikes are highly correlated?"
      ]
    },
    {
      "cell_type": "markdown",
      "id": "42fbb112",
      "metadata": {
        "id": "42fbb112",
        "papermill": {
          "duration": 0.034723,
          "end_time": "2022-01-07T04:46:29.105866",
          "exception": false,
          "start_time": "2022-01-07T04:46:29.071143",
          "status": "completed"
        },
        "tags": []
      },
      "source": [
        "To solve Question 11, we use first calculate the correlation between the specified columns using the corr() function from the Pandas library, and then we plot a heatmap of the correlation vector using the heatmap() function from the Seaborn library."
      ]
    },
    {
      "cell_type": "code",
      "execution_count": null,
      "id": "77327bfd",
      "metadata": {
        "execution": {
          "iopub.execute_input": "2022-01-07T04:46:29.179819Z",
          "iopub.status.busy": "2022-01-07T04:46:29.179135Z",
          "iopub.status.idle": "2022-01-07T04:46:29.543788Z",
          "shell.execute_reply": "2022-01-07T04:46:29.544309Z",
          "shell.execute_reply.started": "2022-01-07T04:44:44.487964Z"
        },
        "id": "77327bfd",
        "outputId": "152f55e0-1089-4f88-a003-10184d38e0d8",
        "papermill": {
          "duration": 0.403966,
          "end_time": "2022-01-07T04:46:29.544482",
          "exception": false,
          "start_time": "2022-01-07T04:46:29.140516",
          "status": "completed"
        },
        "tags": [],
        "colab": {
          "base_uri": "https://localhost:8080/",
          "height": 574
        }
      },
      "outputs": [
        {
          "output_type": "execute_result",
          "data": {
            "text/plain": [
              "<Axes: >"
            ]
          },
          "metadata": {},
          "execution_count": 17
        },
        {
          "output_type": "display_data",
          "data": {
            "text/plain": [
              "<Figure size 640x480 with 2 Axes>"
            ],
            "image/png": "[encoded data removed]"
          },
          "metadata": {}
        }
      ],
      "source": [
        "# 11. correlation heatmap for variables Budget, BoxOfficeCollection, YoutubeView, YoutubeLikes, YoutubeDislikes\n",
        "\n",
        "# calculating correlation values between the variables\n",
        "corr = df[['Budget', 'BoxOfficeCollection', 'YoutubeViews', 'YoutubeLikes', 'YoutubeDislikes']].corr()\n",
        "\n",
        "# plotting a heatmap to visualize the correlation\n",
        "sns.heatmap(corr, annot=True)"
      ]
    },
    {
      "cell_type": "markdown",
      "id": "db107440",
      "metadata": {
        "id": "db107440",
        "papermill": {
          "duration": 0.035936,
          "end_time": "2022-01-07T04:46:29.617564",
          "exception": false,
          "start_time": "2022-01-07T04:46:29.581628",
          "status": "completed"
        },
        "tags": []
      },
      "source": [
        "As we can see, the columns YoutubeViews, YoutubeLikes, and YoutubeDislikes are highly correlated with each other."
      ]
    },
    {
      "cell_type": "markdown",
      "id": "4629140b",
      "metadata": {
        "id": "4629140b",
        "papermill": {
          "duration": 0.035755,
          "end_time": "2022-01-07T04:46:29.690243",
          "exception": false,
          "start_time": "2022-01-07T04:46:29.654488",
          "status": "completed"
        },
        "tags": []
      },
      "source": [
        "#### **Q12.** During 2013−2015 period, highlight the genre of movies and their box office collection? Visualize with best fit graph."
      ]
    },
    {
      "cell_type": "markdown",
      "id": "8c85c2f8",
      "metadata": {
        "id": "8c85c2f8",
        "papermill": {
          "duration": 0.035532,
          "end_time": "2022-01-07T04:46:29.761620",
          "exception": false,
          "start_time": "2022-01-07T04:46:29.726088",
          "status": "completed"
        },
        "tags": []
      },
      "source": [
        "To solve Question 12, we use the barplot() function from the Seaborn library and pass the values Year to be plotted on the x-axis, BoxOfficeCollection to be plotted on the y-axis, and set the hue parameter to Genre to split the bars on the basis of Genre."
      ]
    },
    {
      "cell_type": "code",
      "execution_count": null,
      "id": "8688e89c",
      "metadata": {
        "execution": {
          "iopub.execute_input": "2022-01-07T04:46:29.836935Z",
          "iopub.status.busy": "2022-01-07T04:46:29.836326Z",
          "iopub.status.idle": "2022-01-07T04:46:30.101618Z",
          "shell.execute_reply": "2022-01-07T04:46:30.101085Z",
          "shell.execute_reply.started": "2022-01-07T04:44:44.867631Z"
        },
        "id": "8688e89c",
        "outputId": "b44d0810-f9f6-4d20-9619-d4cf08f3317e",
        "papermill": {
          "duration": 0.304436,
          "end_time": "2022-01-07T04:46:30.101822",
          "exception": false,
          "start_time": "2022-01-07T04:46:29.797386",
          "status": "completed"
        },
        "tags": [],
        "colab": {
          "base_uri": "https://localhost:8080/",
          "height": 553
        }
      },
      "outputs": [
        {
          "output_type": "stream",
          "name": "stderr",
          "text": [
            "<ipython-input-18-3f1e863b7c97>:2: FutureWarning: \n",
            "\n",
            "The `ci` parameter is deprecated. Use `errorbar=None` for the same effect.\n",
            "\n",
            "  sns.barplot(x='Year', y='BoxOfficeCollection', hue='Genre', data=df, ci=None)\n"
          ]
        },
        {
          "output_type": "execute_result",
          "data": {
            "text/plain": [
              "<Axes: xlabel='Year', ylabel='BoxOfficeCollection'>"
            ]
          },
          "metadata": {},
          "execution_count": 18
        },
        {
          "output_type": "display_data",
          "data": {
            "text/plain": [
              "<Figure size 640x480 with 1 Axes>"
            ],
            "image/png": "[encoded data removed]"
          },
          "metadata": {}
        }
      ],
      "source": [
        "# 12. plotting a barplot to highlight the genre of movies and their box office collection\n",
        "sns.barplot(x='Year', y='BoxOfficeCollection', hue='Genre', data=df, ci=None)"
      ]
    },
    {
      "cell_type": "markdown",
      "id": "f0be4efb",
      "metadata": {
        "id": "f0be4efb",
        "papermill": {
          "duration": 0.03698,
          "end_time": "2022-01-07T04:46:30.176631",
          "exception": false,
          "start_time": "2022-01-07T04:46:30.139651",
          "status": "completed"
        },
        "tags": []
      },
      "source": [
        "#### **Q13.** During 2013−2015, find the number of movies released in every year. Also, visualize with best fit graph."
      ]
    },
    {
      "cell_type": "markdown",
      "id": "37f01609",
      "metadata": {
        "id": "37f01609",
        "papermill": {
          "duration": 0.036964,
          "end_time": "2022-01-07T04:46:30.253391",
          "exception": false,
          "start_time": "2022-01-07T04:46:30.216427",
          "status": "completed"
        },
        "tags": []
      },
      "source": [
        "To solve Question 13, we first find the number of movies released every year using the value_counts() function from the Pandas library on the Year column."
      ]
    },
    {
      "cell_type": "code",
      "execution_count": null,
      "id": "4134b644",
      "metadata": {
        "execution": {
          "iopub.execute_input": "2022-01-07T04:46:30.333670Z",
          "iopub.status.busy": "2022-01-07T04:46:30.333043Z",
          "iopub.status.idle": "2022-01-07T04:46:30.338089Z",
          "shell.execute_reply": "2022-01-07T04:46:30.338705Z",
          "shell.execute_reply.started": "2022-01-07T04:44:45.107834Z"
        },
        "id": "4134b644",
        "outputId": "7bfaf1ab-0782-4833-d33f-f7308302e6b5",
        "papermill": {
          "duration": 0.048005,
          "end_time": "2022-01-07T04:46:30.338917",
          "exception": false,
          "start_time": "2022-01-07T04:46:30.290912",
          "status": "completed"
        },
        "tags": [],
        "colab": {
          "base_uri": "https://localhost:8080/"
        }
      },
      "outputs": [
        {
          "output_type": "execute_result",
          "data": {
            "text/plain": [
              "2014    70\n",
              "2013    67\n",
              "2015    12\n",
              "Name: Year, dtype: int64"
            ]
          },
          "metadata": {},
          "execution_count": 19
        }
      ],
      "source": [
        "# 13. finding number of movies released in every year\n",
        "df.Year.value_counts()"
      ]
    },
    {
      "cell_type": "markdown",
      "id": "78e72253",
      "metadata": {
        "id": "78e72253",
        "papermill": {
          "duration": 0.04047,
          "end_time": "2022-01-07T04:46:30.421028",
          "exception": false,
          "start_time": "2022-01-07T04:46:30.380558",
          "status": "completed"
        },
        "tags": []
      },
      "source": [
        "Next, we use the countplot() function from the Seaborn library and pass the value Year to be plotted on the x-axis. The y-axis automatically plots the count of the discrete variable Year."
      ]
    },
    {
      "cell_type": "code",
      "execution_count": null,
      "id": "72a08441",
      "metadata": {
        "execution": {
          "iopub.execute_input": "2022-01-07T04:46:30.504127Z",
          "iopub.status.busy": "2022-01-07T04:46:30.502963Z",
          "iopub.status.idle": "2022-01-07T04:46:30.694924Z",
          "shell.execute_reply": "2022-01-07T04:46:30.695355Z",
          "shell.execute_reply.started": "2022-01-07T04:44:45.116588Z"
        },
        "id": "72a08441",
        "outputId": "478cc589-0c11-4c36-bd12-2bd9d5db231a",
        "papermill": {
          "duration": 0.235893,
          "end_time": "2022-01-07T04:46:30.695534",
          "exception": false,
          "start_time": "2022-01-07T04:46:30.459641",
          "status": "completed"
        },
        "tags": [],
        "colab": {
          "base_uri": "https://localhost:8080/",
          "height": 466
        }
      },
      "outputs": [
        {
          "output_type": "execute_result",
          "data": {
            "text/plain": [
              "<Axes: xlabel='Year', ylabel='count'>"
            ]
          },
          "metadata": {},
          "execution_count": 20
        },
        {
          "output_type": "display_data",
          "data": {
            "text/plain": [
              "<Figure size 640x480 with 1 Axes>"
            ],
            "image/png": "[encoded data removed]"
          },
          "metadata": {}
        }
      ],
      "source": [
        "# 13. plotting a countplot to visualize the number of movies released every year\n",
        "sns.countplot(x='Year', data=df)"
      ]
    },
    {
      "cell_type": "markdown",
      "id": "ba3020f2",
      "metadata": {
        "id": "ba3020f2",
        "papermill": {
          "duration": 0.037401,
          "end_time": "2022-01-07T04:46:30.771850",
          "exception": false,
          "start_time": "2022-01-07T04:46:30.734449",
          "status": "completed"
        },
        "tags": []
      },
      "source": [
        "As we can see, the year 2014 has the maximum number of movies closely followed by 2013."
      ]
    },
    {
      "cell_type": "markdown",
      "id": "9a070095",
      "metadata": {
        "id": "9a070095",
        "papermill": {
          "duration": 0.038615,
          "end_time": "2022-01-07T04:46:30.850317",
          "exception": false,
          "start_time": "2022-01-07T04:46:30.811702",
          "status": "completed"
        },
        "tags": []
      },
      "source": [
        "#### **Q14.** Find the distribution of movie budget for every Genre."
      ]
    },
    {
      "cell_type": "markdown",
      "id": "2d9ffa08",
      "metadata": {
        "id": "2d9ffa08",
        "papermill": {
          "duration": 0.040629,
          "end_time": "2022-01-07T04:46:30.930066",
          "exception": false,
          "start_time": "2022-01-07T04:46:30.889437",
          "status": "completed"
        },
        "tags": []
      },
      "source": [
        "To solve Question 14, we use the distplot() function from the Seaborn library and pass the value Budget to be plotted on the x-axis and set the parameter kind to kde and hue to Genre to compare the Genres easily."
      ]
    },
    {
      "cell_type": "code",
      "execution_count": null,
      "id": "23c95f4a",
      "metadata": {
        "execution": {
          "iopub.execute_input": "2022-01-07T04:46:31.048195Z",
          "iopub.status.busy": "2022-01-07T04:46:31.047155Z",
          "iopub.status.idle": "2022-01-07T04:46:31.381194Z",
          "shell.execute_reply": "2022-01-07T04:46:31.381684Z",
          "shell.execute_reply.started": "2022-01-07T04:44:45.267584Z"
        },
        "id": "23c95f4a",
        "outputId": "73e964f0-2c55-49a2-df01-b7783f5deb60",
        "papermill": {
          "duration": 0.413718,
          "end_time": "2022-01-07T04:46:31.381900",
          "exception": false,
          "start_time": "2022-01-07T04:46:30.968182",
          "status": "completed"
        },
        "tags": [],
        "colab": {
          "base_uri": "https://localhost:8080/",
          "height": 523
        }
      },
      "outputs": [
        {
          "output_type": "execute_result",
          "data": {
            "text/plain": [
              "<seaborn.axisgrid.FacetGrid at 0x7b9bb22b5300>"
            ]
          },
          "metadata": {},
          "execution_count": 21
        },
        {
          "output_type": "display_data",
          "data": {
            "text/plain": [
              "<Figure size 614.5x500 with 1 Axes>"
            ],
            "image/png": "[encoded data removed]"
          },
          "metadata": {}
        }
      ],
      "source": [
        "# 14. plotting a distplot to visualize the distribution of Budget Genre-wise\n",
        "# sns.displot(x='Budget', data=df, kind='kde', hue='Genre')"
      ]
    },
    {
      "cell_type": "markdown",
      "id": "40010f91",
      "metadata": {
        "id": "40010f91",
        "papermill": {
          "duration": 0.03998,
          "end_time": "2022-01-07T04:46:31.462894",
          "exception": false,
          "start_time": "2022-01-07T04:46:31.422914",
          "status": "completed"
        },
        "tags": []
      },
      "source": [
        "As we can see, almost all the Genres have right-skewed Budget."
      ]
    },
    {
      "cell_type": "markdown",
      "id": "be71fba9",
      "metadata": {
        "id": "be71fba9",
        "papermill": {
          "duration": 0.041855,
          "end_time": "2022-01-07T04:46:31.547855",
          "exception": false,
          "start_time": "2022-01-07T04:46:31.506000",
          "status": "completed"
        },
        "tags": []
      },
      "source": [
        "#### **Q15.** During 2013−2015, Visualize the number of YouTube likes and YouTube dislikes every year. Also, visualize with best fit graph."
      ]
    },
    {
      "cell_type": "markdown",
      "id": "0bf57d98",
      "metadata": {
        "id": "0bf57d98",
        "papermill": {
          "duration": 0.043956,
          "end_time": "2022-01-07T04:46:31.635330",
          "exception": false,
          "start_time": "2022-01-07T04:46:31.591374",
          "status": "completed"
        },
        "tags": []
      },
      "source": [
        "To solve Question 15, we first find the sum of likes year-wise by grouping the dataframe by the Year column and summing over the YoutubeLikes column using the sum() function from the Pandas library."
      ]
    },
    {
      "cell_type": "code",
      "execution_count": null,
      "id": "e8d874ed",
      "metadata": {
        "execution": {
          "iopub.execute_input": "2022-01-07T04:46:31.722297Z",
          "iopub.status.busy": "2022-01-07T04:46:31.721263Z",
          "iopub.status.idle": "2022-01-07T04:46:31.731506Z",
          "shell.execute_reply": "2022-01-07T04:46:31.732112Z",
          "shell.execute_reply.started": "2022-01-07T04:44:45.694491Z"
        },
        "id": "e8d874ed",
        "outputId": "11f504ad-a85e-4418-ff33-0b84fd1e35a5",
        "papermill": {
          "duration": 0.056614,
          "end_time": "2022-01-07T04:46:31.732300",
          "exception": false,
          "start_time": "2022-01-07T04:46:31.675686",
          "status": "completed"
        },
        "tags": [],
        "colab": {
          "base_uri": "https://localhost:8080/"
        }
      },
      "outputs": [
        {
          "output_type": "execute_result",
          "data": {
            "text/plain": [
              "Year\n",
              "2013    324180\n",
              "2014    710142\n",
              "2015    139431\n",
              "Name: YoutubeLikes, dtype: int64"
            ]
          },
          "metadata": {},
          "execution_count": 22
        }
      ],
      "source": [
        "# 15. finding number of YoutubeLikes every year\n",
        "df.groupby(by='Year').YoutubeLikes.sum()"
      ]
    },
    {
      "cell_type": "markdown",
      "id": "6c05645b",
      "metadata": {
        "id": "6c05645b",
        "papermill": {
          "duration": 0.039203,
          "end_time": "2022-01-07T04:46:31.811636",
          "exception": false,
          "start_time": "2022-01-07T04:46:31.772433",
          "status": "completed"
        },
        "tags": []
      },
      "source": [
        "Then, we find the sum of dislikes year-wise by grouping the dataframe by the Year column and summing over the YoutubeDislikes column using the sum() function from the Pandas library."
      ]
    },
    {
      "cell_type": "code",
      "execution_count": null,
      "id": "849b00a3",
      "metadata": {
        "execution": {
          "iopub.execute_input": "2022-01-07T04:46:31.894575Z",
          "iopub.status.busy": "2022-01-07T04:46:31.893627Z",
          "iopub.status.idle": "2022-01-07T04:46:31.901257Z",
          "shell.execute_reply": "2022-01-07T04:46:31.901663Z",
          "shell.execute_reply.started": "2022-01-07T04:44:45.706020Z"
        },
        "id": "849b00a3",
        "outputId": "6548eaab-3e3f-456f-b674-8a253d912cb3",
        "papermill": {
          "duration": 0.050708,
          "end_time": "2022-01-07T04:46:31.901864",
          "exception": false,
          "start_time": "2022-01-07T04:46:31.851156",
          "status": "completed"
        },
        "tags": [],
        "colab": {
          "base_uri": "https://localhost:8080/"
        }
      },
      "outputs": [
        {
          "output_type": "execute_result",
          "data": {
            "text/plain": [
              "Year\n",
              "2013     58156\n",
              "2014    104682\n",
              "2015     17127\n",
              "Name: YoutubeDislikes, dtype: int64"
            ]
          },
          "metadata": {},
          "execution_count": 23
        }
      ],
      "source": [
        "# 15. finding number of YoutubeDislikes every year\n",
        "df.groupby(by='Year').YoutubeDislikes.sum()"
      ]
    },
    {
      "cell_type": "markdown",
      "id": "a9c1f0d3",
      "metadata": {
        "id": "a9c1f0d3",
        "papermill": {
          "duration": 0.041122,
          "end_time": "2022-01-07T04:46:31.983038",
          "exception": false,
          "start_time": "2022-01-07T04:46:31.941916",
          "status": "completed"
        },
        "tags": []
      },
      "source": [
        "Next, we convert the above results into a data frame using the DataFrame() function from the Pandas libray and plot it using the plot.bar() from the Pandas library."
      ]
    },
    {
      "cell_type": "code",
      "execution_count": null,
      "id": "636e7d29",
      "metadata": {
        "execution": {
          "iopub.execute_input": "2022-01-07T04:46:32.072046Z",
          "iopub.status.busy": "2022-01-07T04:46:32.071349Z",
          "iopub.status.idle": "2022-01-07T04:46:32.253409Z",
          "shell.execute_reply": "2022-01-07T04:46:32.252757Z",
          "shell.execute_reply.started": "2022-01-07T04:44:45.720029Z"
        },
        "id": "636e7d29",
        "outputId": "4ef285fa-8293-4db7-dcbf-f7f860f93e34",
        "papermill": {
          "duration": 0.229594,
          "end_time": "2022-01-07T04:46:32.253551",
          "exception": false,
          "start_time": "2022-01-07T04:46:32.023957",
          "status": "completed"
        },
        "tags": [],
        "colab": {
          "base_uri": "https://localhost:8080/",
          "height": 468
        }
      },
      "outputs": [
        {
          "output_type": "execute_result",
          "data": {
            "text/plain": [
              "<Axes: >"
            ]
          },
          "metadata": {},
          "execution_count": 24
        },
        {
          "output_type": "display_data",
          "data": {
            "text/plain": [
              "<Figure size 640x480 with 1 Axes>"
            ],
            "image/png": "[encoded data removed]"
          },
          "metadata": {}
        }
      ],
      "source": [
        "# listing the above results\n",
        "likes =[324180, 710142, 139431]\n",
        "dislikes=[58156, 104682, 17127]\n",
        "year = ['2013', '2014', '2015']\n",
        "\n",
        "# converting the results into a dataframe.\n",
        "compare = pd.DataFrame ({'likes':likes, 'dislikes':dislikes}, index=year)\n",
        "\n",
        "# 15. plotting the dataframe.\n",
        "compare.plot.bar()"
      ]
    },
    {
      "cell_type": "code",
      "source": [],
      "metadata": {
        "id": "BID2J5E4zXiZ"
      },
      "id": "BID2J5E4zXiZ",
      "execution_count": null,
      "outputs": []
    }
  ],
  "metadata": {
    "kernelspec": {
      "display_name": "Python 3",
      "language": "python",
      "name": "python3"
    },
    "language_info": {
      "codemirror_mode": {
        "name": "ipython",
        "version": 3
      },
      "file_extension": ".py",
      "mimetype": "text/x-python",
      "name": "python",
      "nbconvert_exporter": "python",
      "pygments_lexer": "ipython3",
      "version": "3.7.12"
    },
    "papermill": {
      "default_parameters": {},
      "duration": 18.571491,
      "end_time": "2022-01-07T04:46:33.110384",
      "environment_variables": {},
      "exception": null,
      "input_path": "__notebook__.ipynb",
      "output_path": "__notebook__.ipynb",
      "parameters": {},
      "start_time": "2022-01-07T04:46:14.538893",
      "version": "2.3.3"
    },
    "colab": {
      "provenance": []
    }
  },
  "nbformat": 4,
  "nbformat_minor": 5
}